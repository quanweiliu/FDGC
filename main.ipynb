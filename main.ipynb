{
 "cells": [
  {
   "cell_type": "code",
   "execution_count": null,
   "metadata": {},
   "outputs": [],
   "source": [
    "import os\n",
    "# os.environ['CUDA_VISIBLE_DEVICES'] = ','.join(map(str, [0]))\n",
    "# print('using GPU %s' % ','.join(map(str, [0])))\n",
    "\n",
    "import torch\n",
    "from thop import profile, clever_format\n",
    "from timm.loss import LabelSmoothingCrossEntropy, SoftTargetCrossEntropy\n",
    "from sklearn.metrics import classification_report,cohen_kappa_score, accuracy_score\n",
    "import numpy as np\n",
    "import matplotlib.pyplot as plt\n",
    "\n",
    "import json\n",
    "import csv\n",
    "from datetime import datetime\n",
    "import time\n",
    "\n",
    "from models import FDGC\n",
    "from option import opt\n",
    "from loadData import data_pipe, data_reader\n",
    "from utlis import tools, trainer"
   ]
  },
  {
   "cell_type": "code",
   "execution_count": null,
   "metadata": {},
   "outputs": [],
   "source": [
    "args = opt.get_args()\n",
    "# args.dataset_name = \"IndianPines\"\n",
    "# args.dataset_name = \"PaviaU\"\n",
    "# args.dataset_name = \"LongKou\"\n",
    "# args.dataset_name = \"HanChuan\"\n",
    "# args.dataset_name = \"HongHu\"\n",
    "# args.dataset_name = \"PaviaC\"\n",
    "# args.dataset_name = \"Salinas\"\n",
    "args.dataset_name = \"Dioni\"\n",
    "\n",
    "args.train_ratio = 0.1\n",
    "args.split_type = \"number\"\n",
    "args.path_data = r\"C:\\Users\\jc962911\\Project\\datasets\\HSI\\\\\"\n",
    "args.result_dir = args.path_head + 'results\\\\' + \\\n",
    "                     datetime.now().strftime(\"%Y%m%d-%H%M-D\")\n",
    "print(args.result_dir)\n",
    "\n",
    "# create a new file\n",
    "if not os.path.exists(args.result_dir):\n",
    "    os.mkdir(args.result_dir)\n",
    "with open(args.result_dir + '/args.json', 'w') as fid:\n",
    "    json.dump(args.__dict__, fid, indent=2)"
   ]
  },
  {
   "cell_type": "markdown",
   "metadata": {},
   "source": [
    "# Dataset"
   ]
  },
  {
   "cell_type": "code",
   "execution_count": null,
   "metadata": {},
   "outputs": [],
   "source": [
    "# data_pipe.set_deterministic(seed = 666)\n",
    "args.print_data_info = False\n",
    "args.show_gt = False\n",
    "args.remove_zero_labels = True\n",
    "train_loader, test_loader, train_label, test_label = data_pipe.get_data(args)\n",
    "len(train_loader.dataset)"
   ]
  },
  {
   "cell_type": "code",
   "execution_count": null,
   "metadata": {},
   "outputs": [],
   "source": [
    "for i,j in train_loader:\n",
    "    print(i.shape, j.shape)\n",
    "    break"
   ]
  },
  {
   "cell_type": "markdown",
   "metadata": {},
   "source": [
    "# Model"
   ]
  },
  {
   "cell_type": "code",
   "execution_count": null,
   "metadata": {},
   "outputs": [],
   "source": [
    "net = FDGC(input_channels=args.components, num_nodes=(np.max(test_label)+1)*args.num_nodes, \n",
    "           num_classes=np.max(test_label)+1, patch_size=args.patch_size).to(args.device)\n",
    "\n",
    "flops, params = profile(net, inputs=(torch.randn(2, 1, args.components, args.patch_size, \\\n",
    "                                                 args.patch_size).cuda(),))\n",
    "flops, params = clever_format([flops, params])\n",
    "print('# Model Params: {} FLOPs: {}'.format(params, flops))\n",
    "\n",
    "# criterion = nn.CrossEntropyLoss()\n",
    "criterion = LabelSmoothingCrossEntropy(smoothing=args.lb_smooth)\n",
    "# criterion = SoftTargetCrossEntropy()\n",
    "# criterion = nn.MultiLabelSoftMarginLoss()\n",
    "# optimizer = optim.SGD(net.parameters(), lr=0.001, momentum=0.9)\n",
    "optimizer = torch.optim.Adam(net.parameters(), lr=args.learning_rate, weight_decay=args.weight_decay)\n",
    "scheduler = torch.optim.lr_scheduler.MultiStepLR(\n",
    "                optimizer, milestones=[args.epochs // 2, (5 * args.epochs) // 6], gamma=0.1)"
   ]
  },
  {
   "cell_type": "code",
   "execution_count": null,
   "metadata": {},
   "outputs": [],
   "source": [
    "tic1 = time.time()\n",
    "args.epochs = 50\n",
    "train_losses, train_accuracy, test_accuracy, epoch_time, test_time = \\\n",
    "                        trainer.train(net, args.epochs, train_loader, \\\n",
    "                        test_loader, criterion, optimizer, scheduler, args)\n",
    "train_time = time.time() - tic1"
   ]
  },
  {
   "cell_type": "code",
   "execution_count": null,
   "metadata": {},
   "outputs": [],
   "source": [
    "# args.resume = \"/home/liuquanwei/code/FDGC/results/20230812-2110-FDGCF-D/best_model_loss.pth\"\n",
    "if args.resume != '':\n",
    "    checkpoint = torch.load(args.resume)\n",
    "    net.load_state_dict(checkpoint['model'])\n",
    "    epoch_start = checkpoint['epoch'] + 1\n",
    "    print('Loaded from: {}'.format(args.resume))\n",
    "else:\n",
    "   print(\"start new\")\n",
    "\n",
    "tic2 = time.time()\n",
    "test_losses, test_preds, test_accuracy = tools.test(net, criterion, test_loader, args)\n",
    "test_time = time.time() - tic2"
   ]
  },
  {
   "cell_type": "code",
   "execution_count": null,
   "metadata": {},
   "outputs": [],
   "source": [
    "args.plot_loss_curve = True\n",
    "if args.plot_loss_curve:\n",
    "    fig = plt.figure()\n",
    "    plt.plot(range(args.epochs), train_losses, color='blue')\n",
    "    plt.legend(['Train Loss', 'Test Loss'], loc='upper right')\n",
    "    plt.xlabel('number of training examples seen')\n",
    "    plt.ylabel('negative log likelihood loss')\n",
    "    plt.show()"
   ]
  },
  {
   "cell_type": "markdown",
   "metadata": {},
   "source": [
    "# show results"
   ]
  },
  {
   "cell_type": "code",
   "execution_count": null,
   "metadata": {},
   "outputs": [],
   "source": [
    "y_pred_test = [j for i in test_preds for j in i]\n",
    "classification = classification_report(test_label, y_pred_test, digits=4)\n",
    "kappa = cohen_kappa_score(test_label, y_pred_test)\n",
    "print(classification)"
   ]
  },
  {
   "cell_type": "code",
   "execution_count": null,
   "metadata": {},
   "outputs": [],
   "source": [
    "# 保存数据信息\n",
    "f = open(args.result_dir + \"/\"+ args.dataset_name + '_results.txt', 'a+')\n",
    "str_results = '\\n ======================' \\\n",
    "            + \"\\nsamples_type = \" + str(args.split_type) \\\n",
    "            + \"\\ntrain ratio = \" + str(args.train_ratio) \\\n",
    "            + \"\\nbatch_size = \" + str(args.batch_size) \\\n",
    "            + \"\\npatch_size = \" + str(args.patch_size) \\\n",
    "            + \"\\nnum_components = \" + str(args.components) \\\n",
    "            + '\\n' + classification \\\n",
    "            + \"kappa = \\t\\t\" + str(kappa) \\\n",
    "            + '\\ntrain time = ' + str(train_time) \\\n",
    "            + '\\ntest time = ' + str(test_time) \\\n",
    "            + '\\n'\n",
    "            \n",
    "f.write(str_results)\n",
    "f.close()"
   ]
  },
  {
   "cell_type": "markdown",
   "metadata": {},
   "source": [
    "# Visulization"
   ]
  },
  {
   "cell_type": "code",
   "execution_count": null,
   "metadata": {},
   "outputs": [],
   "source": [
    "# data_pipe.set_deterministic(seed = 666)\n",
    "args.print_data_info = False\n",
    "args.show_gt = False\n",
    "args.remove_zero_labels = False\n",
    "args.train_ratio = 0\n",
    "data, data_gt = data_reader.load_data(args.dataset_name, path_data=args.path_data)\n",
    "train_loader, data_loader, _, _ = data_pipe.get_data(args)\n",
    "len(train_loader.dataset)"
   ]
  },
  {
   "cell_type": "code",
   "execution_count": null,
   "metadata": {},
   "outputs": [],
   "source": [
    "# args.resume = \"/home/liuquanwei/code/FDGC/results/20230812-2110-FDGCF-D/best_model_loss.pth\"\n",
    "if args.resume != '':\n",
    "    checkpoint = torch.load(args.resume)\n",
    "    net.load_state_dict(checkpoint['model'])\n",
    "    epoch_start = checkpoint['epoch'] + 1\n",
    "    print('Loaded from: {}'.format(args.resume))\n",
    "else:\n",
    "   print(\"start new\")\n",
    "\n",
    "tic2 = time.time()\n",
    "test_losses, test_preds, test_accuracy = tools.test(net, criterion, data_loader, args, data_gt, visulation=True)\n",
    "test_time = time.time() - tic2"
   ]
  },
  {
   "cell_type": "code",
   "execution_count": null,
   "metadata": {},
   "outputs": [],
   "source": []
  },
  {
   "cell_type": "code",
   "execution_count": null,
   "metadata": {},
   "outputs": [],
   "source": []
  },
  {
   "cell_type": "code",
   "execution_count": null,
   "metadata": {},
   "outputs": [],
   "source": []
  }
 ],
 "metadata": {
  "kernelspec": {
   "display_name": "Python 3.8.5 ('pytorch')",
   "language": "python",
   "name": "python3"
  },
  "language_info": {
   "codemirror_mode": {
    "name": "ipython",
    "version": 3
   },
   "file_extension": ".py",
   "mimetype": "text/x-python",
   "name": "python",
   "nbconvert_exporter": "python",
   "pygments_lexer": "ipython3",
   "version": "3.11.7"
  },
  "orig_nbformat": 4,
  "vscode": {
   "interpreter": {
    "hash": "f28104d83f364164a14023df7a8da16cfc0355892cfe84fa9cb246c3ca2d1159"
   }
  }
 },
 "nbformat": 4,
 "nbformat_minor": 2
}
